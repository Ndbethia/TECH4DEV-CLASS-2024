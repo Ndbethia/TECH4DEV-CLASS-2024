{
 "cells": [
  {
   "cell_type": "markdown",
   "id": "1b12a6e5",
   "metadata": {},
   "source": [
    "# List Methods and Examples"
   ]
  },
  {
   "cell_type": "code",
   "execution_count": 1,
   "id": "335e23a1",
   "metadata": {},
   "outputs": [
    {
     "name": "stdout",
     "output_type": "stream",
     "text": [
      "[1, 2, 3, 4]\n"
     ]
    }
   ],
   "source": [
    "#append()\n",
    "my_list = [1, 2, 3]\n",
    "my_list.append(4)\n",
    "print(my_list)\n"
   ]
  },
  {
   "cell_type": "code",
   "execution_count": 3,
   "id": "501000eb",
   "metadata": {},
   "outputs": [
    {
     "name": "stdout",
     "output_type": "stream",
     "text": [
      "[1, 2, 3, 4, 5, 6]\n"
     ]
    }
   ],
   "source": [
    "#Extend()\n",
    "list1 = [1, 2, 3]\n",
    "list2 = [4, 5, 6]\n",
    "list1.extend(list2)\n",
    "print(list1)\n"
   ]
  },
  {
   "cell_type": "code",
   "execution_count": 4,
   "id": "139e041d",
   "metadata": {},
   "outputs": [
    {
     "name": "stdout",
     "output_type": "stream",
     "text": [
      "[1, 5, 2, 3]\n"
     ]
    }
   ],
   "source": [
    "#insert()\n",
    "my_list = [1, 2, 3]\n",
    "my_list.insert(1, 5)\n",
    "print(my_list)\n"
   ]
  },
  {
   "cell_type": "code",
   "execution_count": 5,
   "id": "3adeb394",
   "metadata": {},
   "outputs": [
    {
     "name": "stdout",
     "output_type": "stream",
     "text": [
      "[1, 3, 4, 2]\n"
     ]
    }
   ],
   "source": [
    "#remove()\n",
    "my_list = [1, 2, 3, 4, 2]\n",
    "my_list.remove(2)\n",
    "print(my_list)\n",
    "\n"
   ]
  },
  {
   "cell_type": "code",
   "execution_count": 6,
   "id": "285196bb",
   "metadata": {},
   "outputs": [
    {
     "name": "stdout",
     "output_type": "stream",
     "text": [
      "[1, 2, 4]\n",
      "3\n"
     ]
    }
   ],
   "source": [
    "#pop()\n",
    "my_list = [1, 2, 3, 4]\n",
    "popped_element = my_list.pop(2)\n",
    "print(my_list)         \n",
    "print(popped_element)  \n"
   ]
  },
  {
   "cell_type": "code",
   "execution_count": 7,
   "id": "c61adf7a",
   "metadata": {},
   "outputs": [
    {
     "name": "stdout",
     "output_type": "stream",
     "text": [
      "2\n"
     ]
    }
   ],
   "source": [
    "#index()\n",
    "my_list = [1, 2, 3, 4]\n",
    "index = my_list.index(3)\n",
    "print(index)\n"
   ]
  },
  {
   "cell_type": "code",
   "execution_count": 8,
   "id": "c67a544c",
   "metadata": {},
   "outputs": [
    {
     "name": "stdout",
     "output_type": "stream",
     "text": [
      "2\n"
     ]
    }
   ],
   "source": [
    "#count()\n",
    "my_list = [1, 2, 3, 4, 2]\n",
    "count = my_list.count(2)\n",
    "print(count)"
   ]
  },
  {
   "cell_type": "code",
   "execution_count": 9,
   "id": "57510b92",
   "metadata": {},
   "outputs": [
    {
     "name": "stdout",
     "output_type": "stream",
     "text": [
      "[1, 1, 2, 3, 4, 5, 9]\n"
     ]
    }
   ],
   "source": [
    "#sort\n",
    "my_list = [3, 1, 4, 1, 5, 9, 2]\n",
    "my_list.sort()\n",
    "print(my_list)"
   ]
  },
  {
   "cell_type": "code",
   "execution_count": 10,
   "id": "dcadd651",
   "metadata": {},
   "outputs": [
    {
     "name": "stdout",
     "output_type": "stream",
     "text": [
      "[4, 3, 2, 1]\n"
     ]
    }
   ],
   "source": [
    "#reverse()\n",
    "my_list = [1, 2, 3, 4]\n",
    "my_list.reverse()\n",
    "print(my_list)"
   ]
  },
  {
   "cell_type": "code",
   "execution_count": 11,
   "id": "02899c4a",
   "metadata": {},
   "outputs": [
    {
     "name": "stdout",
     "output_type": "stream",
     "text": [
      "[1, 2, 3]\n"
     ]
    }
   ],
   "source": [
    "#copy()\n",
    "original_list = [1, 2, 3]\n",
    "copied_list = original_list.copy()\n",
    "print(copied_list)"
   ]
  },
  {
   "cell_type": "code",
   "execution_count": 12,
   "id": "4f886ae9",
   "metadata": {},
   "outputs": [
    {
     "name": "stdout",
     "output_type": "stream",
     "text": [
      "[]\n"
     ]
    }
   ],
   "source": [
    "#clear()\n",
    "my_list = [1, 2, 3, 4]\n",
    "my_list.clear()\n",
    "print(my_list)"
   ]
  },
  {
   "cell_type": "code",
   "execution_count": 15,
   "id": "e5739f64",
   "metadata": {},
   "outputs": [
    {
     "name": "stdout",
     "output_type": "stream",
     "text": [
      "4\n"
     ]
    }
   ],
   "source": [
    "#len()\n",
    "my_list = [1, 2, 3, 4]\n",
    "length = len(my_list)\n",
    "print(length) "
   ]
  },
  {
   "cell_type": "code",
   "execution_count": 14,
   "id": "0f70360d",
   "metadata": {},
   "outputs": [
    {
     "name": "stdout",
     "output_type": "stream",
     "text": [
      "8\n"
     ]
    }
   ],
   "source": [
    "#max()\n",
    "my_list = [1, 5, 2, 8, 3]\n",
    "maximum_value = max(my_list)\n",
    "print(maximum_value)"
   ]
  },
  {
   "cell_type": "code",
   "execution_count": 16,
   "id": "f7dbaaba",
   "metadata": {},
   "outputs": [
    {
     "name": "stdout",
     "output_type": "stream",
     "text": [
      "1\n"
     ]
    }
   ],
   "source": [
    "#min()\n",
    "my_list = [1, 5, 2, 8, 3]\n",
    "minimum_value = min(my_list)\n",
    "print(minimum_value)"
   ]
  },
  {
   "cell_type": "code",
   "execution_count": 17,
   "id": "022d27a8",
   "metadata": {},
   "outputs": [
    {
     "name": "stdout",
     "output_type": "stream",
     "text": [
      "10\n"
     ]
    }
   ],
   "source": [
    "#sum()\n",
    "my_list = [1, 2, 3, 4]\n",
    "total_sum = sum(my_list)\n",
    "print(total_sum)"
   ]
  },
  {
   "cell_type": "code",
   "execution_count": 18,
   "id": "e42e7253",
   "metadata": {},
   "outputs": [
    {
     "name": "stdout",
     "output_type": "stream",
     "text": [
      "[2, 3, 4]\n"
     ]
    }
   ],
   "source": [
    "#slice()\n",
    "my_list = [1, 2, 3, 4, 5]\n",
    "sliced_list = my_list[1:4]\n",
    "print(sliced_list)"
   ]
  },
  {
   "cell_type": "code",
   "execution_count": 19,
   "id": "38818e3e",
   "metadata": {},
   "outputs": [
    {
     "name": "stdout",
     "output_type": "stream",
     "text": [
      "True\n"
     ]
    }
   ],
   "source": [
    "#Any()\n",
    "my_list = [False, True, False]\n",
    "result = any(my_list)\n",
    "print(result)  "
   ]
  },
  {
   "cell_type": "code",
   "execution_count": 20,
   "id": "5b386bf6",
   "metadata": {},
   "outputs": [
    {
     "name": "stdout",
     "output_type": "stream",
     "text": [
      "True\n"
     ]
    }
   ],
   "source": [
    "#all()\n",
    "my_list = [True, True, True]\n",
    "result = all(my_list)\n",
    "print(result) "
   ]
  },
  {
   "cell_type": "code",
   "execution_count": 21,
   "id": "4a065995",
   "metadata": {},
   "outputs": [
    {
     "name": "stdout",
     "output_type": "stream",
     "text": [
      "[2, 4, 6]\n"
     ]
    }
   ],
   "source": [
    "#filter()\n",
    "my_list = [1, 2, 3, 4, 5, 6]\n",
    "filtered_list = list(filter(lambda x: x % 2 == 0, my_list))\n",
    "print(filtered_list)"
   ]
  },
  {
   "cell_type": "code",
   "execution_count": 22,
   "id": "55ab19ef",
   "metadata": {},
   "outputs": [
    {
     "name": "stdout",
     "output_type": "stream",
     "text": [
      "[1, 4, 9, 16, 25]\n"
     ]
    }
   ],
   "source": [
    "#Map()\n",
    "my_list = [1, 2, 3, 4, 5]\n",
    "squared_list = list(map(lambda x: x**2, my_list))\n",
    "print(squared_list)"
   ]
  },
  {
   "cell_type": "code",
   "execution_count": 23,
   "id": "169e8338",
   "metadata": {},
   "outputs": [
    {
     "name": "stdout",
     "output_type": "stream",
     "text": [
      "Index: 0, Value: a\n",
      "Index: 1, Value: b\n",
      "Index: 2, Value: c\n"
     ]
    }
   ],
   "source": [
    "#enumerate()\n",
    "my_list = ['a', 'b', 'c']\n",
    "for index, value in enumerate(my_list):\n",
    "    print(f\"Index: {index}, Value: {value}\")\n"
   ]
  },
  {
   "cell_type": "code",
   "execution_count": 24,
   "id": "ad33ab5d",
   "metadata": {},
   "outputs": [
    {
     "name": "stdout",
     "output_type": "stream",
     "text": [
      "[(1, 'a'), (2, 'b'), (3, 'c')]\n"
     ]
    }
   ],
   "source": [
    "#zip()list1 = [1, 2, 3]\n",
    "list2 = ['a', 'b', 'c']\n",
    "zipped_list = list(zip(list1, list2))\n",
    "print(zipped_list)\n"
   ]
  },
  {
   "cell_type": "markdown",
   "id": "fa53480e",
   "metadata": {},
   "source": [
    "# Tuples methods and Examples"
   ]
  },
  {
   "cell_type": "code",
   "execution_count": 25,
   "id": "bcb186f9",
   "metadata": {},
   "outputs": [],
   "source": [
    "tuple1 = (1, 2, 3)\n",
    "tuple2 = ('a', 'b', 'c')\n"
   ]
  },
  {
   "cell_type": "code",
   "execution_count": 26,
   "id": "8d2ee05f",
   "metadata": {},
   "outputs": [
    {
     "name": "stdout",
     "output_type": "stream",
     "text": [
      "(1, 2, 3, 'a', 'b', 'c')\n"
     ]
    }
   ],
   "source": [
    "#concantenation\n",
    "result1 = tuple1 + tuple2\n",
    "print(result1)"
   ]
  },
  {
   "cell_type": "code",
   "execution_count": 27,
   "id": "1f860afc",
   "metadata": {},
   "outputs": [
    {
     "name": "stdout",
     "output_type": "stream",
     "text": [
      "(1, 2, 3, 1, 2, 3)\n"
     ]
    }
   ],
   "source": [
    "#repitition\n",
    "result2 = tuple1 * 2\n",
    "print(result2)"
   ]
  },
  {
   "cell_type": "code",
   "execution_count": 28,
   "id": "d1f2b5f8",
   "metadata": {},
   "outputs": [
    {
     "name": "stdout",
     "output_type": "stream",
     "text": [
      "3\n"
     ]
    }
   ],
   "source": [
    "#length\n",
    "length = len(tuple1)\n",
    "print(length)"
   ]
  },
  {
   "cell_type": "code",
   "execution_count": 29,
   "id": "df5fbfc2",
   "metadata": {},
   "outputs": [
    {
     "name": "stdout",
     "output_type": "stream",
     "text": [
      "True\n"
     ]
    }
   ],
   "source": [
    "#membership (in)\n",
    "contains = 2 in tuple1\n",
    "print(contains)"
   ]
  },
  {
   "cell_type": "code",
   "execution_count": 30,
   "id": "2afb94fd",
   "metadata": {},
   "outputs": [
    {
     "name": "stdout",
     "output_type": "stream",
     "text": [
      "True\n"
     ]
    }
   ],
   "source": [
    "#membership (not in)\n",
    "not_contains = 'x' not in tuple2\n",
    "print(not_contains)"
   ]
  },
  {
   "cell_type": "code",
   "execution_count": 31,
   "id": "de7b629e",
   "metadata": {},
   "outputs": [
    {
     "name": "stdout",
     "output_type": "stream",
     "text": [
      "1\n"
     ]
    }
   ],
   "source": [
    "#index()\n",
    "index = tuple1.index(2)\n",
    "print(index) "
   ]
  },
  {
   "cell_type": "code",
   "execution_count": 32,
   "id": "6ba42054",
   "metadata": {},
   "outputs": [
    {
     "name": "stdout",
     "output_type": "stream",
     "text": [
      "1\n"
     ]
    }
   ],
   "source": [
    "#count()\n",
    "count = tuple1.count(2)\n",
    "print(count)  "
   ]
  },
  {
   "cell_type": "code",
   "execution_count": 33,
   "id": "db3ef9f8",
   "metadata": {},
   "outputs": [
    {
     "name": "stdout",
     "output_type": "stream",
     "text": [
      "1\n"
     ]
    }
   ],
   "source": [
    "#minimum()\n",
    "min_value = min(tuple1)\n",
    "print(min_value)"
   ]
  },
  {
   "cell_type": "code",
   "execution_count": 34,
   "id": "76bb6787",
   "metadata": {},
   "outputs": [
    {
     "name": "stdout",
     "output_type": "stream",
     "text": [
      "3\n"
     ]
    }
   ],
   "source": [
    "#maximum()\n",
    "max_value = max(tuple1)\n",
    "print(max_value) "
   ]
  },
  {
   "cell_type": "code",
   "execution_count": 35,
   "id": "c03da5c6",
   "metadata": {},
   "outputs": [
    {
     "name": "stdout",
     "output_type": "stream",
     "text": [
      "(2, 3)\n"
     ]
    }
   ],
   "source": [
    "#slicing()\n",
    "slice_result = tuple1[1:3]\n",
    "print(slice_result) "
   ]
  },
  {
   "cell_type": "code",
   "execution_count": 36,
   "id": "0ef43d68",
   "metadata": {},
   "outputs": [
    {
     "name": "stdout",
     "output_type": "stream",
     "text": [
      "1 2 3\n"
     ]
    }
   ],
   "source": [
    "#unpacking()\n",
    "a, b, c = tuple1\n",
    "print(a, b, c)"
   ]
  },
  {
   "cell_type": "code",
   "execution_count": 37,
   "id": "5995f2f1",
   "metadata": {},
   "outputs": [
    {
     "name": "stdout",
     "output_type": "stream",
     "text": [
      "[1, 2, 3]\n"
     ]
    }
   ],
   "source": [
    "#tuple to list()\n",
    "list_from_tuple = list(tuple1)\n",
    "print(list_from_tuple)\n"
   ]
  },
  {
   "cell_type": "code",
   "execution_count": 38,
   "id": "4e4dcdef",
   "metadata": {},
   "outputs": [
    {
     "name": "stdout",
     "output_type": "stream",
     "text": [
      "{1, 2, 3}\n"
     ]
    }
   ],
   "source": [
    "#tuple to set()\n",
    "set_from_tuple = set(tuple1)\n",
    "print(set_from_tuple) "
   ]
  },
  {
   "cell_type": "code",
   "execution_count": 39,
   "id": "1a4859f6",
   "metadata": {},
   "outputs": [
    {
     "name": "stdout",
     "output_type": "stream",
     "text": [
      "(1, 2, 3)\n"
     ]
    }
   ],
   "source": [
    "#tuple to string()\n",
    "string_from_tuple = str(tuple1)\n",
    "print(string_from_tuple)"
   ]
  },
  {
   "cell_type": "code",
   "execution_count": 40,
   "id": "5e2b9f10",
   "metadata": {},
   "outputs": [
    {
     "name": "stdout",
     "output_type": "stream",
     "text": [
      "((1, 2, 3), ('a', 'b', 'c'))\n"
     ]
    }
   ],
   "source": [
    "#nested Tuple()\n",
    "nested_tuple = (tuple1, tuple2)\n",
    "print(nested_tuple)"
   ]
  },
  {
   "cell_type": "code",
   "execution_count": 41,
   "id": "489abcc6",
   "metadata": {},
   "outputs": [
    {
     "name": "stdout",
     "output_type": "stream",
     "text": [
      "True\n"
     ]
    }
   ],
   "source": [
    "#any true()\n",
    "any_true = any(tuple1)\n",
    "print(any_true)"
   ]
  },
  {
   "cell_type": "code",
   "execution_count": 42,
   "id": "5a084d66",
   "metadata": {},
   "outputs": [
    {
     "name": "stdout",
     "output_type": "stream",
     "text": [
      "True\n"
     ]
    }
   ],
   "source": [
    "#all true()\n",
    "all_true = all(tuple1)\n",
    "print(all_true) "
   ]
  },
  {
   "cell_type": "code",
   "execution_count": 43,
   "id": "9d8d1475",
   "metadata": {},
   "outputs": [
    {
     "name": "stdout",
     "output_type": "stream",
     "text": [
      "(1, 2, 3)\n"
     ]
    }
   ],
   "source": [
    "#convert to tuple()\n",
    "converted_tuple = tuple([1, 2, 3])\n",
    "print(converted_tuple)"
   ]
  },
  {
   "cell_type": "code",
   "execution_count": 44,
   "id": "b7024f58",
   "metadata": {},
   "outputs": [
    {
     "name": "stdout",
     "output_type": "stream",
     "text": [
      "(4,)\n"
     ]
    }
   ],
   "source": [
    "#tuple with one element()\n",
    "single_element_tuple = (4,)\n",
    "print(single_element_tuple)"
   ]
  },
  {
   "cell_type": "code",
   "execution_count": 45,
   "id": "20bb774f",
   "metadata": {},
   "outputs": [
    {
     "name": "stdout",
     "output_type": "stream",
     "text": [
      "(1, 2, 3)\n"
     ]
    }
   ],
   "source": [
    "#copy tuple()\n",
    "copied_tuple = tuple1[:]\n",
    "print(copied_tuple)"
   ]
  },
  {
   "cell_type": "code",
   "execution_count": 46,
   "id": "484bc4a8",
   "metadata": {},
   "outputs": [
    {
     "name": "stdout",
     "output_type": "stream",
     "text": [
      "(3, 2, 1)\n"
     ]
    }
   ],
   "source": [
    "#reverse()\n",
    "reversed_tuple = tuple(reversed(tuple1))\n",
    "print(reversed_tuple)"
   ]
  },
  {
   "cell_type": "code",
   "execution_count": 47,
   "id": "755420ba",
   "metadata": {
    "scrolled": true
   },
   "outputs": [
    {
     "name": "stdout",
     "output_type": "stream",
     "text": [
      "1\n",
      "2\n",
      "3\n"
     ]
    }
   ],
   "source": [
    "#Iterate through the tuple\n",
    "for item in tuple1:\n",
    "    print(item)"
   ]
  },
  {
   "cell_type": "code",
   "execution_count": 48,
   "id": "29b63846",
   "metadata": {},
   "outputs": [
    {
     "name": "stdout",
     "output_type": "stream",
     "text": [
      "(1, 2, 3)\n"
     ]
    }
   ],
   "source": [
    "#tuple sorting()\n",
    "sorted_tuple = tuple(sorted(tuple1))\n",
    "print(sorted_tuple)"
   ]
  },
  {
   "cell_type": "code",
   "execution_count": 49,
   "id": "a74529ed",
   "metadata": {
    "scrolled": true
   },
   "outputs": [
    {
     "name": "stdout",
     "output_type": "stream",
     "text": [
      "(1, 2, 3)\n"
     ]
    }
   ],
   "source": [
    "#tuple packing()\n",
    "packed_tuple = 1, 2, 3\n",
    "print(packed_tuple)"
   ]
  },
  {
   "cell_type": "markdown",
   "id": "e55f7a7a",
   "metadata": {},
   "source": [
    "# Dictionaries methods and examples"
   ]
  },
  {
   "cell_type": "code",
   "execution_count": 50,
   "id": "7394656b",
   "metadata": {},
   "outputs": [],
   "source": [
    "# 1. Creating an empty dictionary\n",
    "my_dict = {}\n"
   ]
  },
  {
   "cell_type": "code",
   "execution_count": 51,
   "id": "591a7afb",
   "metadata": {},
   "outputs": [],
   "source": [
    "# 2. Adding key-value pairs\n",
    "my_dict['name'] = 'John'\n",
    "my_dict['age'] = 25"
   ]
  },
  {
   "cell_type": "code",
   "execution_count": 52,
   "id": "34725a60",
   "metadata": {},
   "outputs": [
    {
     "name": "stdout",
     "output_type": "stream",
     "text": [
      "John\n"
     ]
    }
   ],
   "source": [
    "# 3. Accessing values using keys\n",
    "print(my_dict['name'])"
   ]
  },
  {
   "cell_type": "code",
   "execution_count": 53,
   "id": "080c58d1",
   "metadata": {},
   "outputs": [
    {
     "name": "stdout",
     "output_type": "stream",
     "text": [
      "True\n"
     ]
    }
   ],
   "source": [
    "# 4. Checking if a key is present\n",
    "print('age' in my_dict) "
   ]
  },
  {
   "cell_type": "code",
   "execution_count": 54,
   "id": "f516de13",
   "metadata": {},
   "outputs": [
    {
     "data": {
      "text/plain": [
       "25"
      ]
     },
     "execution_count": 54,
     "metadata": {},
     "output_type": "execute_result"
    }
   ],
   "source": [
    "# 5. Removing a key-value pair\n",
    "my_dict.pop('age')"
   ]
  },
  {
   "cell_type": "code",
   "execution_count": 55,
   "id": "45c78436",
   "metadata": {},
   "outputs": [
    {
     "name": "stdout",
     "output_type": "stream",
     "text": [
      "Not available\n"
     ]
    }
   ],
   "source": [
    "# 6. Getting a default value if key not present\n",
    "print(my_dict.get('age', 'Not available'))"
   ]
  },
  {
   "cell_type": "code",
   "execution_count": 56,
   "id": "9f5fb14a",
   "metadata": {},
   "outputs": [],
   "source": [
    "# 7. Getting all keys\n",
    "keys = my_dict.keys()"
   ]
  },
  {
   "cell_type": "code",
   "execution_count": 57,
   "id": "4d00ed57",
   "metadata": {},
   "outputs": [],
   "source": [
    "# 8. Getting all values\n",
    "values = my_dict.values()"
   ]
  },
  {
   "cell_type": "code",
   "execution_count": 58,
   "id": "892a58b7",
   "metadata": {},
   "outputs": [],
   "source": [
    "# 9. Getting key-value pairs\n",
    "items = my_dict.items()"
   ]
  },
  {
   "cell_type": "code",
   "execution_count": 59,
   "id": "78fb9381",
   "metadata": {},
   "outputs": [],
   "source": [
    "# 10. Copying a dictionary\n",
    "new_dict = my_dict.copy()"
   ]
  },
  {
   "cell_type": "code",
   "execution_count": 60,
   "id": "81452dbc",
   "metadata": {},
   "outputs": [],
   "source": [
    "# 11. Clearing all items from a dictionary\n",
    "my_dict.clear()\n"
   ]
  },
  {
   "cell_type": "code",
   "execution_count": 61,
   "id": "03808ff5",
   "metadata": {},
   "outputs": [],
   "source": [
    "# 12. Updating one dictionary with another\n",
    "my_dict.update({'name': 'Alice', 'city': 'Wonderland'})\n"
   ]
  },
  {
   "cell_type": "code",
   "execution_count": 62,
   "id": "583ccc85",
   "metadata": {},
   "outputs": [
    {
     "data": {
      "text/plain": [
       "30"
      ]
     },
     "execution_count": 62,
     "metadata": {},
     "output_type": "execute_result"
    }
   ],
   "source": [
    "# 13. Setting default value for a key\n",
    "my_dict.setdefault('age', 30)"
   ]
  },
  {
   "cell_type": "code",
   "execution_count": 65,
   "id": "354d2d51",
   "metadata": {},
   "outputs": [],
   "source": [
    "# 14. Pop an item and return its value\n",
    "value = my_dict.popitem()"
   ]
  },
  {
   "cell_type": "code",
   "execution_count": 68,
   "id": "d14c7f57",
   "metadata": {},
   "outputs": [
    {
     "name": "stdout",
     "output_type": "stream",
     "text": [
      "{'a': 1, 'b': 3, 'c': 4}\n"
     ]
    }
   ],
   "source": [
    "# 15. Merging two dictionaries\n",
    "dict1 = {'a': 1, 'b': 2}\n",
    "dict2 = {'b': 3, 'c': 4}\n",
    "merged_dict = {**dict1, **dict2}\n",
    "print(merged_dict)\n"
   ]
  },
  {
   "cell_type": "code",
   "execution_count": null,
   "id": "cf594631",
   "metadata": {},
   "outputs": [],
   "source": [
    "# 16. Sorting keys\n",
    "sorted_keys = sorted(my_dict.keys())\n"
   ]
  },
  {
   "cell_type": "code",
   "execution_count": 69,
   "id": "30d609e1",
   "metadata": {},
   "outputs": [],
   "source": [
    "# 17. Sorting values\n",
    "sorted_values = sorted(my_dict.values())"
   ]
  },
  {
   "cell_type": "code",
   "execution_count": 70,
   "id": "59f9233b",
   "metadata": {},
   "outputs": [],
   "source": [
    "# 18. Iterating through keys\n",
    "for key in my_dict:\n",
    "    print(key, my_dict[key])"
   ]
  },
  {
   "cell_type": "code",
   "execution_count": 71,
   "id": "b4794a7d",
   "metadata": {},
   "outputs": [],
   "source": [
    "# 19. Iterating through key-value pairs\n",
    "for key, value in my_dict.items():\n",
    "    print(key, value)"
   ]
  },
  {
   "cell_type": "code",
   "execution_count": 72,
   "id": "a8733aec",
   "metadata": {},
   "outputs": [],
   "source": [
    "# 20. Getting the length of a dictionary\n",
    "length = len(my_dict)"
   ]
  },
  {
   "cell_type": "code",
   "execution_count": 73,
   "id": "ebd1902c",
   "metadata": {},
   "outputs": [],
   "source": [
    "# 21. Creating a dictionary using dict() constructor\n",
    "another_dict = dict(name='Bob', age=28, city='Metropolis')"
   ]
  },
  {
   "cell_type": "code",
   "execution_count": 74,
   "id": "046db5c4",
   "metadata": {},
   "outputs": [],
   "source": [
    "# 22. Checking if all keys are present\n",
    "all_keys_present = all(key in my_dict for key in ['name', 'age'])"
   ]
  },
  {
   "cell_type": "code",
   "execution_count": 75,
   "id": "17c98c7b",
   "metadata": {},
   "outputs": [],
   "source": [
    "# 23. Checking if any key is present\n",
    "any_key_present = any(key in my_dict for key in ['name', 'gender'])\n"
   ]
  },
  {
   "cell_type": "code",
   "execution_count": 76,
   "id": "ce27e080",
   "metadata": {},
   "outputs": [],
   "source": [
    "# 24. Converting keys to a set\n",
    "keys_set = set(my_dict.keys())\n"
   ]
  },
  {
   "cell_type": "code",
   "execution_count": 77,
   "id": "53d2178d",
   "metadata": {},
   "outputs": [],
   "source": [
    "# 25. Converting values to a list\n",
    "values_list = list(my_dict.values())\n"
   ]
  }
 ],
 "metadata": {
  "kernelspec": {
   "display_name": "Python 3 (ipykernel)",
   "language": "python",
   "name": "python3"
  },
  "language_info": {
   "codemirror_mode": {
    "name": "ipython",
    "version": 3
   },
   "file_extension": ".py",
   "mimetype": "text/x-python",
   "name": "python",
   "nbconvert_exporter": "python",
   "pygments_lexer": "ipython3",
   "version": "3.11.5"
  }
 },
 "nbformat": 4,
 "nbformat_minor": 5
}
