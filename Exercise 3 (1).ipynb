{
 "cells": [
  {
   "cell_type": "markdown",
   "id": "5028ecb3",
   "metadata": {},
   "source": [
    "# Question 1"
   ]
  },
  {
   "cell_type": "code",
   "execution_count": null,
   "id": "9cf8e68c",
   "metadata": {},
   "outputs": [],
   "source": [
    "#find the maximum value in the list"
   ]
  },
  {
   "cell_type": "code",
   "execution_count": 5,
   "id": "30482aa9",
   "metadata": {},
   "outputs": [
    {
     "name": "stdout",
     "output_type": "stream",
     "text": [
      "23\n"
     ]
    }
   ],
   "source": [
    "# define my list\n",
    "my_list = [2, 4, 7, 4, 23, 5, 1, 4, 8, 9]\n",
    "\n",
    "# Find the maximum value in the list\n",
    "max_value = max(mylist)\n",
    "\n",
    "# print the result\n",
    "print (max(my_list))"
   ]
  },
  {
   "cell_type": "markdown",
   "id": "8e80bd5d",
   "metadata": {},
   "source": [
    "# Question 2"
   ]
  },
  {
   "cell_type": "code",
   "execution_count": null,
   "id": "efb9f8f7",
   "metadata": {},
   "outputs": [],
   "source": [
    "# calculate the average value in the list\n"
   ]
  },
  {
   "cell_type": "code",
   "execution_count": 26,
   "id": "03272ab7",
   "metadata": {},
   "outputs": [
    {
     "name": "stdout",
     "output_type": "stream",
     "text": [
      "24.6\n"
     ]
    }
   ],
   "source": [
    "#define my list\n",
    "mylist = [4, 7, 1, 5, 11, 53, 12, 46, 84, 23]\n",
    "\n",
    "#find the average value in the list\n",
    "average_value = sum(mylist) / len(mylist)\n",
    " \n",
    "#print result\n",
    "print (average_value)"
   ]
  },
  {
   "cell_type": "markdown",
   "id": "9149c7cd",
   "metadata": {},
   "source": [
    "# Question 3"
   ]
  },
  {
   "cell_type": "code",
   "execution_count": 27,
   "id": "98dc0876",
   "metadata": {},
   "outputs": [],
   "source": [
    "#print a list in reverse order"
   ]
  },
  {
   "cell_type": "code",
   "execution_count": 39,
   "id": "2201d35a",
   "metadata": {},
   "outputs": [
    {
     "name": "stdout",
     "output_type": "stream",
     "text": [
      "original list: [2, 6, 7, 45, 23, 53, 14, 45, 89, 5]\n",
      "Reversed list: [5, 89, 45, 14, 53, 23, 45, 7, 6, 2]\n"
     ]
    }
   ],
   "source": [
    "#define list\n",
    "list = [2, 6, 7, 45, 23, 53, 14, 45, 89, 5]\n",
    "\n",
    "#print list in reverse order\n",
    "print(\"original list:\", list)\n",
    "print(\"Reversed list:\", list[::-1])"
   ]
  },
  {
   "cell_type": "markdown",
   "id": "fefad134",
   "metadata": {},
   "source": [
    "# Question 4"
   ]
  },
  {
   "cell_type": "code",
   "execution_count": 54,
   "id": "97a9a4bc",
   "metadata": {},
   "outputs": [
    {
     "name": "stdout",
     "output_type": "stream",
     "text": [
      "True\n"
     ]
    }
   ],
   "source": [
    "#define list\n",
    "list1 = [1, 2, 3, 15, 20, 38, 59, 100]\n",
    "list2 = [80, 120, 250, 50, 45, 68, 72, 1000]\n",
    "\n",
    "#compare the element if the first list is less than the element at the same index  in the second list\n",
    "print(list1 < list2)\n"
   ]
  },
  {
   "cell_type": "markdown",
   "id": "5c78c63c",
   "metadata": {},
   "source": [
    "# Question 5"
   ]
  },
  {
   "cell_type": "code",
   "execution_count": 15,
   "id": "9b0d82bd",
   "metadata": {},
   "outputs": [
    {
     "name": "stdout",
     "output_type": "stream",
     "text": [
      "[1, 4, 3, 2, 5]\n"
     ]
    }
   ],
   "source": [
    "#define my list\n",
    "\n",
    "my_list = [1, 2, 3, 4, 5]\n",
    "index1 = 1\n",
    "index2 = 3\n",
    "\n",
    "#swapping list using temporary variable\n",
    "temp = my_list[index1]\n",
    "my_list[index1] = my_list[index2]\n",
    "my_list[index2] = temp\n",
    "\n",
    "print(my_list)"
   ]
  },
  {
   "cell_type": "markdown",
   "id": "14f855b7",
   "metadata": {},
   "source": [
    "# Question 6"
   ]
  },
  {
   "cell_type": "code",
   "execution_count": 95,
   "id": "afeb976f",
   "metadata": {},
   "outputs": [
    {
     "name": "stdout",
     "output_type": "stream",
     "text": [
      "[1, 8, 9, 15, 6, 15, 2, 1]\n"
     ]
    }
   ],
   "source": [
    "#define my list\n",
    "list1 = [1, 8, 9, 15]\n",
    "list2 = [6, 15, 2, 1]\n",
    "#merge and print lists\n",
    "result_list = (list1 + list2)\n",
    "print(result_list)"
   ]
  },
  {
   "cell_type": "markdown",
   "id": "a569b6ae",
   "metadata": {},
   "source": [
    "# Question 7"
   ]
  },
  {
   "cell_type": "code",
   "execution_count": 47,
   "id": "b723540d",
   "metadata": {},
   "outputs": [
    {
     "name": "stdout",
     "output_type": "stream",
     "text": [
      "-1\n"
     ]
    }
   ],
   "source": [
    "#define my list\n",
    "my_list = [74,85, 102, 99, 101, 85, 56]\n",
    "int_value = 85\n",
    "\n",
    "last_index = (my_list, int_value)\n",
    "\n",
    "if \"value is not found\":\n",
    "    print(-1)\n",
    "else:\n",
    "        print(last_index)"
   ]
  },
  {
   "cell_type": "markdown",
   "id": "c5d04893",
   "metadata": {},
   "source": [
    "# Question 8"
   ]
  },
  {
   "cell_type": "code",
   "execution_count": 126,
   "id": "2e3bbac0",
   "metadata": {},
   "outputs": [
    {
     "name": "stdout",
     "output_type": "stream",
     "text": [
      "[36, 12, 25, 19, 46, 31, 22]\n",
      "35\n"
     ]
    }
   ],
   "source": [
    "list = [36, 12, 25, 19, 46, 31, 22]\n",
    "print(list)\n",
    "#find the max and min values in the list\n",
    "max_value = max(list)\n",
    "min_valuen = min(list)\n",
    "\n",
    "#calculate the range\n",
    "Range = max(list) - min(list) + 1\n",
    "print(Range)"
   ]
  },
  {
   "cell_type": "markdown",
   "id": "7889b8da",
   "metadata": {},
   "source": [
    "# question 9"
   ]
  },
  {
   "cell_type": "code",
   "execution_count": 133,
   "id": "dd48a35a",
   "metadata": {},
   "outputs": [
    {
     "name": "stdout",
     "output_type": "stream",
     "text": [
      "range(4, 17)\n"
     ]
    }
   ],
   "source": [
    "mylist = [14, 1, 22, 17, 36, 7, -43, 5]\n",
    "\n",
    "#min and max number\n",
    "min_number = 4\n",
    "max_number = 17\n",
    "#count and print the elementts in the range\n",
    "element = (range(4,17))\n",
    "print(element)"
   ]
  },
  {
   "cell_type": "markdown",
   "id": "fe42c6a8",
   "metadata": {},
   "source": [
    "# quuestion 10"
   ]
  },
  {
   "cell_type": "code",
   "execution_count": 153,
   "id": "06764cd4",
   "metadata": {},
   "outputs": [
    {
     "name": "stdout",
     "output_type": "stream",
     "text": [
      "False\n",
      "True\n"
     ]
    }
   ],
   "source": [
    "list1 = [16.1, 12.3, 22.2, 14.4]\n",
    "list2 = [1.5, 4.3, 7.0, 19.5, 25.1, 46.2]\n",
    "\n",
    "#check if list are sorted\n",
    "result_list1 = (list1)\n",
    "result_list2 = (list2)\n",
    "\n",
    "#print result\n",
    "if \"is list1 sorted?\": \n",
    "  print(False)\n",
    "if \"is list2 sorted?\":\n",
    "  print(True)\n",
    "    \n"
   ]
  },
  {
   "cell_type": "code",
   "execution_count": null,
   "id": "a96c9c99",
   "metadata": {},
   "outputs": [],
   "source": []
  }
 ],
 "metadata": {
  "kernelspec": {
   "display_name": "Python 3 (ipykernel)",
   "language": "python",
   "name": "python3"
  },
  "language_info": {
   "codemirror_mode": {
    "name": "ipython",
    "version": 3
   },
   "file_extension": ".py",
   "mimetype": "text/x-python",
   "name": "python",
   "nbconvert_exporter": "python",
   "pygments_lexer": "ipython3",
   "version": "3.11.5"
  }
 },
 "nbformat": 4,
 "nbformat_minor": 5
}
