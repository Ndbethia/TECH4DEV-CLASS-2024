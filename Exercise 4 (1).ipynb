{
 "cells": [
  {
   "cell_type": "markdown",
   "id": "e5a64abe",
   "metadata": {},
   "source": [
    "# question 1"
   ]
  },
  {
   "cell_type": "code",
   "execution_count": 2,
   "id": "36c4f849",
   "metadata": {},
   "outputs": [
    {
     "name": "stdout",
     "output_type": "stream",
     "text": [
      "+-----+\n",
      "\\    /\n",
      " \\  /\n",
      "  \\/\n",
      "  /\\\n",
      " /  \\\n",
      "\\    /\n",
      " \\  /\n",
      "  \\/\n",
      "  /\\\n",
      " /  \\\n",
      "\\    /\n",
      " \\  /\n",
      "  \\/\n",
      "  /\\\n",
      " /  \\\n",
      "+-----+\n"
     ]
    }
   ],
   "source": [
    "#num of rows\n",
    "num_rows = 5\n",
    "\n",
    "#for loop print pattern\n",
    "for i in range(num_rows):\n",
    "    if i== 0 or i == num_rows -1:\n",
    "        print(\"+-----+\")\n",
    "    else:\n",
    "            print(\"\\\\    /\")\n",
    "            print(\" \\\\  /\")\n",
    "            print(\"  \\\\/\")\n",
    "            print(\"  /\\\\\")\n",
    "            print(\" /  \\\\\")"
   ]
  },
  {
   "cell_type": "markdown",
   "id": "f0d0f372",
   "metadata": {},
   "source": [
    "# Question 2\n"
   ]
  },
  {
   "cell_type": "code",
   "execution_count": 4,
   "id": "27c52bc8",
   "metadata": {},
   "outputs": [
    {
     "name": "stdout",
     "output_type": "stream",
     "text": [
      "**********\n",
      "**********\n",
      "**********\n",
      "**********\n",
      "**********\n"
     ]
    }
   ],
   "source": [
    "#set number ofrows\n",
    "num_rows = 5\n",
    "\n",
    "#use a for loopto print the pattern\n",
    "for i in range(num_rows):\n",
    "    print(\"**********\")"
   ]
  },
  {
   "cell_type": "markdown",
   "id": "7fd8d8c3",
   "metadata": {},
   "source": [
    "# question 3"
   ]
  },
  {
   "cell_type": "code",
   "execution_count": 5,
   "id": "2aeddeaa",
   "metadata": {},
   "outputs": [
    {
     "name": "stdout",
     "output_type": "stream",
     "text": [
      "a) 1 b) 2 c) 4 d) 9 e) 5 f) 86 g) -6\n",
      "a) 4 b) 4 c) 19 d) 8 e) 7 f) 83 g) 8\n",
      "a) 7 b) 6 c) 44 d) 7 e) 9 f) 80 g) 22\n",
      "a) 10 b) 8 c) 79 d) 6 e) 11 f) 77 g) 36\n",
      "a) 13 b) 10 c) 124 d) 5 e) 13 f) 74 g) 50\n",
      "a) 16 b) 12 c) 179 d) 4 e) 15 f) 71 g) 64\n"
     ]
    }
   ],
   "source": [
    "for i in range(1, 7):\n",
    "    a = 3 * i - 2\n",
    "    b = 2 * i\n",
    "    c = 5 * i ** 2 - 1\n",
    "    d = 10 - i\n",
    "    e = 2 * i + 3\n",
    "    f = 89 - 3 * i\n",
    "    g = 14 * i - 20\n",
    "    \n",
    "    print(f\"a) {a} b) {b} c) {c} d) {d} e) {e} f) {f} g) {g}\")"
   ]
  },
  {
   "cell_type": "markdown",
   "id": "b3fa6fa9",
   "metadata": {},
   "source": [
    "# Question 4"
   ]
  },
  {
   "cell_type": "code",
   "execution_count": 8,
   "id": "06ddb41e",
   "metadata": {},
   "outputs": [
    {
     "name": "stdout",
     "output_type": "stream",
     "text": [
      "1\n",
      "22\n",
      "333\n",
      "4444\n",
      "55555\n",
      "666666\n",
      "7777777\n"
     ]
    }
   ],
   "source": [
    "#define list\n",
    "for i in range(1, 8):\n",
    "    print(str(i) * i)"
   ]
  },
  {
   "cell_type": "markdown",
   "id": "5c594ea1",
   "metadata": {},
   "source": [
    "# Question 5"
   ]
  },
  {
   "cell_type": "code",
   "execution_count": 29,
   "id": "1ca1e293",
   "metadata": {},
   "outputs": [
    {
     "ename": "TypeError",
     "evalue": "'int' object is not iterable",
     "output_type": "error",
     "traceback": [
      "\u001b[1;31m---------------------------------------------------------------------------\u001b[0m",
      "\u001b[1;31mTypeError\u001b[0m                                 Traceback (most recent call last)",
      "Cell \u001b[1;32mIn[29], line 1\u001b[0m\n\u001b[1;32m----> 1\u001b[0m normal_hours \u001b[38;5;241m=\u001b[39m \u001b[38;5;28mmin\u001b[39m(\u001b[38;5;241m8\u001b[39m,)\n\u001b[0;32m      2\u001b[0m overtime_hours \u001b[38;5;241m=\u001b[39m \u001b[38;5;28mmax\u001b[39m(\u001b[38;5;241m0\u001b[39m, \u001b[38;5;241m-\u001b[39m\u001b[38;5;241m8\u001b[39m)\n\u001b[0;32m      3\u001b[0m salary_per_hour \u001b[38;5;241m=\u001b[39m (normal_pay \u001b[38;5;241m/\u001b[39m normal_hours) \n",
      "\u001b[1;31mTypeError\u001b[0m: 'int' object is not iterable"
     ]
    }
   ],
   "source": [
    "\n",
    "normal_hours = min(8,)\n",
    "overtime_hours = max(0, -8)\n",
    "salary_per_hour = (normal_pay / normal_hours) \n",
    "\n",
    "normal_pay = (salary_per_hour * normal_hours)\n",
    "overtime_pay = (1.5 * salary_per_hour * overtime_hours)\n",
    "    \n",
    "total_pay = normal_pay + overtime_pay\n",
    "print (total_pay)\n",
    "\n",
    "print (pay(5.50, 6))\n",
    "print(pay(4.00, 11))\n"
   ]
  },
  {
   "cell_type": "markdown",
   "id": "13488c4f",
   "metadata": {},
   "source": [
    "# Question 6\n"
   ]
  },
  {
   "cell_type": "code",
   "execution_count": 87,
   "id": "d997aaf1",
   "metadata": {},
   "outputs": [
    {
     "name": "stdout",
     "output_type": "stream",
     "text": [
      "3.141592653589793\n",
      "12.566370614359172\n"
     ]
    }
   ],
   "source": [
    "#import math module\n",
    "import math\n",
    "#acess pi constant\n",
    "pi_value = math.pi\n",
    "print(pi_value)\n",
    "#calculate area of a circle\n",
    "radius = 2.0\n",
    "area = math.pi * radius**2\n",
    "print(area)\n"
   ]
  },
  {
   "cell_type": "markdown",
   "id": "b6a96073",
   "metadata": {},
   "source": [
    "# Question 7"
   ]
  },
  {
   "cell_type": "markdown",
   "id": "c9c31c50",
   "metadata": {},
   "source": [
    "low = 1\n",
    "high = 1001\n",
    "sum = 0\n",
    "for i in range(low, high):\n",
    "    sum += i\n",
    "    \n",
    "print(\"sum = \" , sum)\n"
   ]
  },
  {
   "cell_type": "code",
   "execution_count": null,
   "id": "0db91e08",
   "metadata": {},
   "outputs": [],
   "source": [
    "low? 1\n",
    "high? 1001\n",
    "sum = 500500"
   ]
  },
  {
   "cell_type": "code",
   "execution_count": null,
   "id": "45d54f2b",
   "metadata": {},
   "outputs": [],
   "source": [
    "low? 300\n",
    "high? 5298\n",
    "sum = 13986903"
   ]
  },
  {
   "cell_type": "markdown",
   "id": "ec573d84",
   "metadata": {},
   "source": [
    "# Question 8"
   ]
  },
  {
   "cell_type": "code",
   "execution_count": null,
   "id": "5960a330",
   "metadata": {},
   "outputs": [],
   "source": [
    "sum = 0\n",
    "number = (10(0))\n",
    "\n",
    "while number 1= 0:\n",
    "    sum += number\n",
    "    number = (15(0))\n",
    "print(sum)\n",
    "\n"
   ]
  },
  {
   "cell_type": "markdown",
   "id": "736723e1",
   "metadata": {},
   "source": [
    "# Question 9"
   ]
  },
  {
   "cell_type": "code",
   "execution_count": null,
   "id": "a3762b9e",
   "metadata": {},
   "outputs": [],
   "source": [
    "sum = 0\n",
    "number = (10(-1))\n",
    "\n",
    "while number 1= 0:\n",
    "    sum += number\n",
    "    number = (15(-1))\n",
    "print(sum)"
   ]
  },
  {
   "cell_type": "markdown",
   "id": "9e2da8a4",
   "metadata": {},
   "source": [
    "# Question 10"
   ]
  },
  {
   "cell_type": "code",
   "execution_count": null,
   "id": "a1b779fc",
   "metadata": {},
   "outputs": [],
   "source": [
    "repeated_text = repl(\"Hello\", 3)\n",
    "print(repeated_text)"
   ]
  },
  {
   "cell_type": "code",
   "execution_count": null,
   "id": "959d25c4",
   "metadata": {},
   "outputs": [],
   "source": [
    "repeated_text = repl(\"hello\", -1)\n",
    "print(repeated_text)"
   ]
  },
  {
   "cell_type": "markdown",
   "id": "1167fa43",
   "metadata": {},
   "source": [
    "# Question 11"
   ]
  },
  {
   "cell_type": "code",
   "execution_count": null,
   "id": "dc22f6d5",
   "metadata": {},
   "outputs": [],
   "source": [
    "printRange(2, 7)\n",
    "printRange(19, 11)\n",
    "printRange(5, 5)\n"
   ]
  },
  {
   "cell_type": "markdown",
   "id": "a412f45b",
   "metadata": {},
   "source": [
    "# Question 14"
   ]
  },
  {
   "cell_type": "code",
   "execution_count": null,
   "id": "06268537",
   "metadata": {},
   "outputs": [],
   "source": [
    "unique_count = num_unique(18, 3, 4)\n",
    "print(len(unique_count))\n",
    "\n",
    "unique_count = num_unique(6, 7, 6)\n",
    "print(len(unique_count))"
   ]
  },
  {
   "cell_type": "markdown",
   "id": "fa362635",
   "metadata": {},
   "source": [
    "# Question 15"
   ]
  },
  {
   "cell_type": "code",
   "execution_count": null,
   "id": "25fb0e5e",
   "metadata": {},
   "outputs": [],
   "source": [
    "import random\n",
    "#simulate rolling dice\n",
    "def roll_dice():\n",
    "    die1 = random.randint(1, 6)\n",
    "    die2 = random.randint(1, 6)\n",
    "    total = die1 + die2\n",
    "    return die1, die2, total\n",
    "#keep rolling until the sum is 7\n",
    "tries = 0\n",
    "while True:\n",
    "    tries += 1\n",
    "    die1, die2, total = roll dice()\n",
    "    print(f\"{die1} + {die2} = {total}\")\n",
    "    if totla == 7:\n",
    "        break\n",
    "        #print winning message\n",
    "        print(f\"You won after {tries} tries!\")\n"
   ]
  },
  {
   "cell_type": "code",
   "execution_count": null,
   "id": "2864ce5b",
   "metadata": {},
   "outputs": [],
   "source": []
  }
 ],
 "metadata": {
  "kernelspec": {
   "display_name": "Python 3 (ipykernel)",
   "language": "python",
   "name": "python3"
  },
  "language_info": {
   "codemirror_mode": {
    "name": "ipython",
    "version": 3
   },
   "file_extension": ".py",
   "mimetype": "text/x-python",
   "name": "python",
   "nbconvert_exporter": "python",
   "pygments_lexer": "ipython3",
   "version": "3.11.5"
  }
 },
 "nbformat": 4,
 "nbformat_minor": 5
}
